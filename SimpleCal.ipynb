{
  "nbformat": 4,
  "nbformat_minor": 0,
  "metadata": {
    "colab": {
      "provenance": [],
      "mount_file_id": "1gtAhbYW_taUXz-vFWb6Utt7aQyakWHrZ",
      "authorship_tag": "ABX9TyO/99Kj6PZYrwELRH9vpqVR",
      "include_colab_link": true
    },
    "kernelspec": {
      "name": "python3",
      "display_name": "Python 3"
    },
    "language_info": {
      "name": "python"
    }
  },
  "cells": [
    {
      "cell_type": "markdown",
      "metadata": {
        "id": "view-in-github",
        "colab_type": "text"
      },
      "source": [
        "<a href=\"https://colab.research.google.com/github/Saifullah17003/Assignments/blob/main/SimpleCal.ipynb\" target=\"_parent\"><img src=\"https://colab.research.google.com/assets/colab-badge.svg\" alt=\"Open In Colab\"/></a>"
      ]
    },
    {
      "cell_type": "code",
      "source": [
        "# Create a custom calculator module\n",
        "def add(x, y):\n",
        "    \"\"\"Return the sum of x and y.\"\"\"\n",
        "    return x + y\n",
        "\n",
        "def subtract(x, y):\n",
        "    \"\"\"Return the difference of x and y.\"\"\"\n",
        "    return x - y\n",
        "\n",
        "def multiply(x, y):\n",
        "    \"\"\"Return the product of x and y.\"\"\"\n",
        "    return x * y\n",
        "\n",
        "def divide(x, y):\n",
        "    \"\"\"Return the quotient of x and y. Raises an error if y is zero.\"\"\"\n",
        "    if y == 0:\n",
        "        raise ValueError(\"Cannot divide by zero.\")\n",
        "    return x / y"
      ],
      "metadata": {
        "id": "hA5ihctI-I-f"
      },
      "execution_count": 1,
      "outputs": []
    },
    {
      "cell_type": "code",
      "source": [
        "# Save the calculator functions to a file\n",
        "with open('calculator.py', 'w') as f:\n",
        "    f.write(\"\"\"\n",
        "def add(x, y):\n",
        "    \\\"\\\"\\\"Return the sum of x and y.\\\"\\\"\\\"\n",
        "    return x + y\n",
        "\n",
        "def subtract(x, y):\n",
        "    \\\"\\\"\\\"Return the difference of x and y.\\\"\\\"\\\"\n",
        "    return x - y\n",
        "\n",
        "def multiply(x, y):\n",
        "    \\\"\\\"\\\"Return the product of x and y.\\\"\\\"\\\"\n",
        "    return x * y\n",
        "\n",
        "def divide(x, y):\n",
        "    \\\"\\\"\\\"Return the quotient of x and y. Raises an error if y is zero.\\\"\\\"\\\"\n",
        "    if y == 0:\n",
        "        raise ValueError(\"Cannot divide by zero.\")\n",
        "    return x / y\n",
        "\"\"\")"
      ],
      "metadata": {
        "id": "W99CS28g-LOO"
      },
      "execution_count": 2,
      "outputs": []
    },
    {
      "cell_type": "code",
      "source": [
        "# Import the custom calculator module\n",
        "import calculator\n",
        "\n",
        "def main():\n",
        "    print(\"Simple Calculator\")\n",
        "    print(\"Select operation:\")\n",
        "    print(\"1. Add\")\n",
        "    print(\"2. Subtract\")\n",
        "    print(\"3. Multiply\")\n",
        "    print(\"4. Divide\")\n",
        "\n",
        "    while True:\n",
        "        choice = input(\"Enter choice (1/2/3/4): \")\n",
        "\n",
        "        if choice in ['1', '2', '3', '4']:\n",
        "            # Get input for first number and handle potential errors\n",
        "            while True:\n",
        "                try:\n",
        "                    num1 = float(input(\"Enter first number: \"))\n",
        "                    break\n",
        "                except ValueError:\n",
        "                    print(\"Invalid input. Please enter a number.\")\n",
        "            # Get input for second number and handle potential errors\n",
        "            while True:\n",
        "                try:\n",
        "                    num2 = float(input(\"Enter second number: \"))\n",
        "                    break\n",
        "                except ValueError:\n",
        "                    print(\"Invalid input. Please enter a number.\")\n",
        "\n",
        "\n",
        "            if choice == '1':\n",
        "                print(f\"{num1} + {num2} = {calculator.add(num1, num2)}\")\n",
        "            elif choice == '2':\n",
        "                print(f\"{num1} - {num2} = {calculator.subtract(num1, num2)}\")\n",
        "            elif choice == '3':\n",
        "                print(f\"{num1} * {num2} = {calculator.multiply(num1, num2)}\")\n",
        "            elif choice == '4':\n",
        "                try:\n",
        "                    print(f\"{num1} / {num2} = {calculator.divide(num1, num2)}\")\n",
        "                except ValueError as e:\n",
        "                    print(e)\n",
        "        else:\n",
        "            print(\"Invalid Input\")\n",
        "\n",
        "        next_calculation = input(\"Do you want to perform another calculation? (yes/no): \")\n",
        "        if next_calculation.lower() != 'yes':\n",
        "            break\n",
        "\n",
        "# Call the main function to run the calculator\n",
        "main()"
      ],
      "metadata": {
        "colab": {
          "base_uri": "https://localhost:8080/"
        },
        "id": "JvO69Iq__JKC",
        "outputId": "f1b80570-10ed-478e-bda5-db2dd630a1f7"
      },
      "execution_count": null,
      "outputs": [
        {
          "metadata": {
            "tags": null
          },
          "name": "stdout",
          "output_type": "stream",
          "text": [
            "Simple Calculator\n",
            "Select operation:\n",
            "1. Add\n",
            "2. Subtract\n",
            "3. Multiply\n",
            "4. Divide\n",
            "4.0 * 5.0 = 20.0\n"
          ]
        }
      ]
    }
  ]
}